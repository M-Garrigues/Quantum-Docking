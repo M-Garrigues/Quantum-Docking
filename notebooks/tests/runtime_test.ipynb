{
 "cells": [
  {
   "cell_type": "code",
   "execution_count": 1,
   "id": "02c63064-c2ac-48a8-a449-20158839d58e",
   "metadata": {
    "tags": []
   },
   "outputs": [],
   "source": [
    "import sys\n",
    "\n",
    "sys.path.append(\"../src\")\n",
    "\n",
    "import networkx as nx\n",
    "from networkx.algorithms import approximation as approx\n",
    "from pulser import Pulse, Sequence, Register\n",
    "from pulser.devices import Chadoq2"
   ]
  },
  {
   "cell_type": "code",
   "execution_count": 2,
   "id": "22df759b-dce2-4939-b263-976c4e31652e",
   "metadata": {
    "tags": []
   },
   "outputs": [],
   "source": [
    "from solver.quantum import solver_VQAA, plot_distribution"
   ]
  },
  {
   "cell_type": "code",
   "execution_count": 3,
   "id": "a36bd151-d062-4e06-a889-a5fab31083f6",
   "metadata": {
    "tags": []
   },
   "outputs": [],
   "source": [
    "import warnings\n",
    "\n",
    "warnings.filterwarnings(\"ignore\")\n",
    "\n",
    "import time"
   ]
  },
  {
   "cell_type": "code",
   "execution_count": 4,
   "id": "b091b2cd-70f3-4c47-9834-d4fcac9b4dd9",
   "metadata": {
    "tags": []
   },
   "outputs": [],
   "source": [
    "qubits_4 = {\"0\": (0, 0), \"1\": (-4, -7), \"2\": (4, -7), \"3\": (8, 6)}\n",
    "reg_by_hand_4 = Register(qubits_4)\n",
    "\n",
    "qubits_5 = {\"0\": (0, 0), \"1\": (-4, -7), \"2\": (4, -7), \"3\": (8, 6), \"4\": (-8, 6)}\n",
    "reg_by_hand = Register(qubits_5)\n",
    "\n",
    "qubits_6 = {\"0\": (0, 0), \"1\": (-4, -10), \"2\": (4, -7), \"3\": (-4, 9), \"4\": (-10, 3), \"5\": (5, 14)}\n",
    "reg_by_hand_6 = Register(qubits_6)\n",
    "\n",
    "qubits_8 = {\n",
    "    \"1\": (0, 0),\n",
    "    \"2\": (-4, -7),\n",
    "    \"3\": (-12, -12),\n",
    "    \"4\": (12, -14),\n",
    "    \"5\": (-8, 2),\n",
    "    \"6\": (4, 9),\n",
    "    \"7\": (10, 0),\n",
    "    \"8\": (3, -14),\n",
    "}\n",
    "reg_by_hand_8 = Register(qubits_8)"
   ]
  },
  {
   "cell_type": "code",
   "execution_count": 5,
   "id": "f4c8ad55-2562-465a-b4ac-78234e34975f",
   "metadata": {
    "tags": []
   },
   "outputs": [],
   "source": [
    "G = nx.Graph(\n",
    "    [\n",
    "        (0, 1),\n",
    "        (0, 2),\n",
    "        (0, 3),\n",
    "        (0, 4),\n",
    "        (1, 2),\n",
    "    ]\n",
    ")\n",
    "\n",
    "G_6 = nx.Graph([(0, 1), (0, 2), (0, 3), (0, 4), (1, 2), (3, 4), (3, 5)])\n",
    "\n",
    "G_8 = nx.Graph(\n",
    "    [\n",
    "        (1, 2),\n",
    "        (7, 2),\n",
    "        (3, 2),\n",
    "        (7, 6),\n",
    "        (5, 2),\n",
    "        (1, 5),\n",
    "        (2, 8),\n",
    "        (1, 7),\n",
    "        (6, 1),\n",
    "        (8, 4),\n",
    "    ]\n",
    ")"
   ]
  },
  {
   "cell_type": "code",
   "execution_count": 6,
   "id": "58934f11-6423-4e88-a3ad-17e1fe753fd9",
   "metadata": {
    "tags": []
   },
   "outputs": [
    {
     "name": "stdout",
     "output_type": "stream",
     "text": [
      "time for 5 atoms: 4.736227035522461\n",
      "time for 6 atoms: 11.951375722885132\n",
      "time for 5 atoms: 44.31021595001221\n"
     ]
    }
   ],
   "source": [
    "start1 = time.time()\n",
    "counts_solution_5_nodes, opt_param_5_nodes, solution_5_nodes = solver_VQAA(\n",
    "    reg_by_hand,\n",
    "    G,\n",
    "    penalty_term=20,\n",
    "    number_best_solutions=4,\n",
    "    detuning_range=(0.5, 7),\n",
    "    time_range=(1, 7),\n",
    "    repetitions=4,\n",
    "    simple_sequence=True,\n",
    "    complex_sequence=False,\n",
    ")\n",
    "end1 = time.time()\n",
    "print(\"time for 5 atoms:\", end1 - start1)\n",
    "\n",
    "\n",
    "start2 = time.time()\n",
    "counts_solution_6_nodes, opt_param_6_nodes, solution_6_nodes = solver_VQAA(\n",
    "    reg_by_hand_6,\n",
    "    G_6,\n",
    "    penalty_term=15,\n",
    "    number_best_solutions=8,\n",
    "    omega_range=(1, 8),\n",
    "    detuning_range=(1, 8),\n",
    "    time_range=(3, 8),\n",
    "    repetitions=5,\n",
    "    simple_sequence=True,\n",
    "    complex_sequence=False,\n",
    ")\n",
    "end2 = time.time()\n",
    "print(\"time for 6 atoms:\", end2 - start2)\n",
    "\n",
    "start3 = time.time()\n",
    "counts_solution_8_nodes, opt_param_8_nodes, solution_8_nodes = solver_VQAA(\n",
    "    reg_by_hand_8,\n",
    "    G_8,\n",
    "    penalty_term=30,\n",
    "    number_best_solutions=14,\n",
    "    omega_range=(1, 10),\n",
    "    detuning_range=(1, 10),\n",
    "    time_range=(2, 16),\n",
    "    repetitions=5,\n",
    "    simple_sequence=True,\n",
    "    complex_sequence=False,\n",
    ")\n",
    "end3 = time.time()\n",
    "print(\"time for 5 atoms:\", end3 - start3)"
   ]
  },
  {
   "cell_type": "code",
   "execution_count": null,
   "id": "77cb54cd-5919-4b50-b976-a9549947a31e",
   "metadata": {},
   "outputs": [],
   "source": []
  }
 ],
 "metadata": {
  "kernelspec": {
   "display_name": "Python 3 (ipykernel)",
   "language": "python",
   "name": "python3"
  },
  "language_info": {
   "codemirror_mode": {
    "name": "ipython",
    "version": 3
   },
   "file_extension": ".py",
   "mimetype": "text/x-python",
   "name": "python",
   "nbconvert_exporter": "python",
   "pygments_lexer": "ipython3",
   "version": "3.11.0"
  }
 },
 "nbformat": 4,
 "nbformat_minor": 5
}
